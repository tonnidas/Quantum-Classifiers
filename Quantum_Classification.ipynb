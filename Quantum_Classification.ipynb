{
  "nbformat": 4,
  "nbformat_minor": 0,
  "metadata": {
    "colab": {
      "name": "Quantum-Classification.ipynb",
      "provenance": []
    },
    "kernelspec": {
      "display_name": "Python 3",
      "name": "python3"
    },
    "language_info": {
      "name": "python"
    }
  },
  "cells": [
    {
      "cell_type": "markdown",
      "metadata": {
        "id": "2VMoRuVpW-JM"
      },
      "source": [
        "# Classification experiments with SVC with **Quantum** kernal, QSVC (**Quantum** support vector machine), CircuitQNN classifier (Circuit **Quantum** neural network), VQC (Variational **Quantum** classifier) on generated dataset \n",
        "1. of size 100 (type A)\n",
        "2. of size 100 (type B)\n",
        "3. of size 200 (type A)\n",
        "4. of size 200 (type B) \n",
        "\n",
        "(A is classifieable B not classifieable)"
      ]
    },
    {
      "cell_type": "markdown",
      "metadata": {
        "id": "TPVy_SZhv2g7"
      },
      "source": [
        "## **(1) A dataset of size 100 (type A) generation by SVC with quantum kernal, QSVC, CQNN, VQC**"
      ]
    },
    {
      "cell_type": "code",
      "metadata": {
        "colab": {
          "base_uri": "https://localhost:8080/",
          "height": 265
        },
        "id": "8K622paEOEYR",
        "outputId": "a585fef3-1108-4689-8965-d2117ab2cbfc"
      },
      "source": [
        "# Two semicircles generation\n",
        "import matplotlib.pyplot as plt\n",
        "import numpy as np\n",
        "\n",
        "def make_semi_circles(n_samples, thk, rad, sep, plot):\n",
        "    noisey = np.random.uniform(low=-thk/100.0, high=thk/100.0, size=(n_samples // 2))\n",
        "    noisex = np.random.uniform(low=-rad/100.0, high=rad/100.0, size=(n_samples // 2))\n",
        "    \n",
        "    separation = np.ones(n_samples // 2)*((-sep*0.1)-0.6)\n",
        "    \n",
        "    n_samples_out = n_samples // 2\n",
        "    n_samples_in = n_samples - n_samples_out\n",
        "    \n",
        "    # generator = check_random_state(random_state)\n",
        "    outer_circ_x = np.cos(np.linspace(0, np.pi, n_samples_out)) + noisex\n",
        "    outer_circ_y = np.sin(np.linspace(0, np.pi, n_samples_out)) + noisey\n",
        "    inner_circ_x = (1 - np.cos(np.linspace(0, np.pi, n_samples_in))) + noisex\n",
        "    inner_circ_y = (1 - np.sin(np.linspace(0, np.pi, n_samples_in)) - .5) + noisey + separation\n",
        "    \n",
        "    X = np.vstack((np.append(outer_circ_x, inner_circ_x),\n",
        "                   np.append(outer_circ_y, inner_circ_y))).T\n",
        "    y = np.hstack([np.ones(n_samples_in, dtype=np.intp)*-1,\n",
        "                   np.ones(n_samples_out, dtype=np.intp)])\n",
        "    \n",
        "    if plot:\n",
        "        plt.plot(outer_circ_x, outer_circ_y, 'r.')\n",
        "        plt.plot(inner_circ_x, inner_circ_y, 'b.')\n",
        "        plt.show()\n",
        "\n",
        "    return X, y\n",
        "\n",
        "X, y = make_semi_circles(n_samples=100, thk=2, rad=5, sep=2, plot=True)"
      ],
      "execution_count": null,
      "outputs": [
        {
          "output_type": "display_data",
          "data": {
            "image/png": "[encoded data removed]",
            "text/plain": [
              "<Figure size 432x288 with 1 Axes>"
            ]
          },
          "metadata": {
            "tags": []
          }
        }
      ]
    },
    {
      "cell_type": "code",
      "metadata": {
        "id": "V_opjH8bVlNq"
      },
      "source": [
        "# split the data set as 15% in test set and 85% in training set (without removing outliers)\n",
        "from sklearn.model_selection import train_test_split\n",
        "x_train, x_test, y_train, y_test = train_test_split(X, y, test_size=0.20, random_state=42)"
      ],
      "execution_count": null,
      "outputs": []
    },
    {
      "cell_type": "code",
      "metadata": {
        "id": "OZzBzSdCXwgP"
      },
      "source": [
        "!pip install qiskit[machine-learning]\n",
        "!pip install umap-learn"
      ],
      "execution_count": null,
      "outputs": []
    },
    {
      "cell_type": "code",
      "metadata": {
        "id": "OMeZRWRAZ7ZF"
      },
      "source": [
        "import numpy as np\n",
        "import matplotlib.pyplot as plt\n",
        "\n",
        "from sklearn.svm import SVC\n",
        "from sklearn.cluster import SpectralClustering\n",
        "from sklearn.metrics import normalized_mutual_info_score, accuracy_score\n",
        "from sklearn.preprocessing import OneHotEncoder\n",
        "from sklearn.datasets import load_iris\n",
        "from sklearn.model_selection import train_test_split\n",
        "\n",
        "from qiskit import BasicAer\n",
        "from qiskit.circuit.library import ZZFeatureMap\n",
        "from qiskit.utils import QuantumInstance, algorithm_globals\n",
        "from qiskit import Aer, QuantumCircuit\n",
        "from qiskit.opflow import Z, I, StateFn\n",
        "from qiskit.utils import QuantumInstance\n",
        "from qiskit.circuit import Parameter\n",
        "from qiskit.circuit.library import RealAmplitudes, ZZFeatureMap\n",
        "from qiskit.algorithms.optimizers import COBYLA, L_BFGS_B\n",
        "\n",
        "from qiskit_machine_learning.algorithms import QSVC\n",
        "from qiskit_machine_learning.kernels import QuantumKernel\n",
        "from qiskit_machine_learning.neural_networks import TwoLayerQNN, CircuitQNN\n",
        "from qiskit_machine_learning.algorithms.classifiers import NeuralNetworkClassifier, VQC\n",
        "from qiskit_machine_learning.algorithms.regressors import NeuralNetworkRegressor, VQR\n",
        "from qiskit_machine_learning.exceptions import QiskitMachineLearningError\n",
        "from qiskit_machine_learning.datasets import ad_hoc_data\n",
        "from qiskit_machine_learning.datasets import iris\n",
        "\n",
        "import umap\n",
        "from typing import Union\n",
        "\n",
        "seed = 12345\n",
        "algorithm_globals.random_seed = seed"
      ],
      "execution_count": null,
      "outputs": []
    },
    {
      "cell_type": "markdown",
      "metadata": {
        "id": "FvUfSxZJaea9"
      },
      "source": [
        "## Configure feature map and backend"
      ]
    },
    {
      "cell_type": "code",
      "metadata": {
        "id": "Hn-sbFiPaaq6"
      },
      "source": [
        "num_classes = 2\n",
        "num_qubits = 2 # num_features\n",
        "feature_map = ZZFeatureMap(feature_dimension=num_qubits, reps=2, entanglement='linear')\n",
        "backend = QuantumInstance(BasicAer.get_backend('qasm_simulator'), shots=1024, seed_simulator=seed, seed_transpiler=seed)\n",
        "kernel = QuantumKernel(feature_map=feature_map, quantum_instance=backend)\n",
        "ansatz = RealAmplitudes(num_qubits, reps=1)"
      ],
      "execution_count": null,
      "outputs": []
    },
    {
      "cell_type": "markdown",
      "metadata": {
        "id": "tMF3VUfQbaaO"
      },
      "source": [
        "### SVC with quantum kernal (A100)"
      ]
    },
    {
      "cell_type": "code",
      "metadata": {
        "colab": {
          "base_uri": "https://localhost:8080/",
          "height": 332
        },
        "id": "DaZQX3pabZuJ",
        "outputId": "73646ff8-6724-4611-b356-f4db60911023"
      },
      "source": [
        "kernel = QuantumKernel(feature_map=feature_map, quantum_instance=backend)\n",
        "svc = SVC(kernel=kernel.evaluate)\n",
        "\n",
        "# To predict the time of training\n",
        "from time import time\n",
        "t0_before_training_SVCQK_A100 = time()\n",
        "# To train\n",
        "svc.fit(x_train, y_train)\n",
        "# To store training time globally\n",
        "train_time_SVCQK_A100 = round(time()-t0_before_training_SVCQK_A100, 5)\n",
        "print(\"Training time = \",train_time_SVCQK_A100)\n",
        "\n",
        "# To predict the time of testing\n",
        "t0_before_testning_SVCQK_A100 = time()\n",
        "# To test\n",
        "predicted_y_test = svc.predict(x_test)\n",
        "# To store testing time globally\n",
        "test_time_SVCQK_A100 = round(time()-t0_before_testning_SVCQK_A100, 5)\n",
        "print(\"Testing time = \",test_time_SVCQK_A100)\n",
        "\n",
        "# To store the score globally\n",
        "ScoreSVCQK_A100 = accuracy_score(y_test, predicted_y_test)\n",
        "print(\"ScoreSVCQK_A100 = \",ScoreSVCQK_A100)\n",
        "\n",
        "fig, (ax1, ax2) = plt.subplots(2, 1)\n",
        "ax1.scatter(x_test[:,0], x_test[:,1], c=y_test)\n",
        "ax2.scatter(x_test[:,0], x_test[:,1], c=predicted_y_test)"
      ],
      "execution_count": null,
      "outputs": [
        {
          "output_type": "stream",
          "text": [
            "Training time =  83.81719\n",
            "Testing time =  42.55247\n",
            "ScoreSVCQK_A100 =  0.8\n"
          ],
          "name": "stdout"
        },
        {
          "output_type": "execute_result",
          "data": {
            "text/plain": [
              "<matplotlib.collections.PathCollection at 0x7fd4547f7910>"
            ]
          },
          "metadata": {
            "tags": []
          },
          "execution_count": 25
        },
        {
          "output_type": "display_data",
          "data": {
            "image/png": "[encoded data removed]",
            "text/plain": [
              "<Figure size 432x288 with 2 Axes>"
            ]
          },
          "metadata": {
            "tags": []
          }
        }
      ]
    },
    {
      "cell_type": "markdown",
      "metadata": {
        "id": "MZy9KycRfF3Z"
      },
      "source": [
        "### QSVC (A100)"
      ]
    },
    {
      "cell_type": "code",
      "metadata": {
        "colab": {
          "base_uri": "https://localhost:8080/",
          "height": 332
        },
        "id": "lAp5dH5-fEvi",
        "outputId": "8d8abf30-8877-4601-cd13-7136f677c8b6"
      },
      "source": [
        "qsvc = QSVC(quantum_kernel=kernel)\n",
        "\n",
        "# To predict the time of training\n",
        "from time import time\n",
        "t1_before_training_QSVC_A100 = time()\n",
        "# To train\n",
        "qsvc.fit(x_train, y_train)\n",
        "# To store training time globally\n",
        "train_time_QSVC_A100 = round(time()-t1_before_training_QSVC_A100, 5)\n",
        "print(\"Training time = \",train_time_QSVC_A100)\n",
        "\n",
        "# To predict the time of testing\n",
        "t1_before_testning_QSVC_A100 = time()\n",
        "# To test\n",
        "predicted_y_test = qsvc.predict(x_test)\n",
        "# To store testing time globally\n",
        "test_time_QSVC_A100 = round(time()-t1_before_testning_QSVC_A100, 5)\n",
        "print(\"Testiing time = \", test_time_QSVC_A100)\n",
        "\n",
        "# To store the score globally\n",
        "ScoreQSVC_A100 = accuracy_score(y_test, predicted_y_test)\n",
        "print(\"ScoreQSVC_A100 = \",ScoreQSVC_A100)\n",
        "\n",
        "fig, (ax1, ax2) = plt.subplots(2, 1)\n",
        "ax1.scatter(x_test[:,0], x_test[:,1], c=y_test)\n",
        "ax2.scatter(x_test[:,0], x_test[:,1], c=predicted_y_test)"
      ],
      "execution_count": null,
      "outputs": [
        {
          "output_type": "stream",
          "text": [
            "Training time =  84.39796\n",
            "Testiing time =  40.97769\n",
            "ScoreQSVC_A100 =  0.8\n"
          ],
          "name": "stdout"
        },
        {
          "output_type": "execute_result",
          "data": {
            "text/plain": [
              "<matplotlib.collections.PathCollection at 0x7fd452ee6f90>"
            ]
          },
          "metadata": {
            "tags": []
          },
          "execution_count": 26
        },
        {
          "output_type": "display_data",
          "data": {
            "image/png": "[encoded data removed]",
            "text/plain": [
              "<Figure size 432x288 with 2 Axes>"
            ]
          },
          "metadata": {
            "tags": []
          }
        }
      ]
    },
    {
      "cell_type": "markdown",
      "metadata": {
        "id": "O1uTH-A3pPxC"
      },
      "source": [
        "### VQC (A100)"
      ]
    },
    {
      "cell_type": "code",
      "metadata": {
        "colab": {
          "base_uri": "https://localhost:8080/",
          "height": 332
        },
        "id": "J4fhW0clpTIC",
        "outputId": "644a8244-e905-4bd0-cb9c-f5762e893ecc"
      },
      "source": [
        "# construct variational quantum classifier\n",
        "vqc = VQC(feature_map=feature_map,\n",
        "          ansatz=ansatz, \n",
        "          loss='cross_entropy',\n",
        "          optimizer=COBYLA(), \n",
        "          quantum_instance=backend)\n",
        "\n",
        "# To predict the time of training\n",
        "from time import time\n",
        "t2_before_training_VQC_A100 = time()\n",
        "# To train\n",
        "train_y_one_hot = OneHotEncoder(sparse=False).fit_transform(y_train.reshape(-1, 1))\n",
        "vqc.fit(x_train, train_y_one_hot)\n",
        "# To store training time globally\n",
        "train_time_VQC_A100 = round(time()-t2_before_training_VQC_A100, 5)\n",
        "print(\"Training time = \",train_time_VQC_A100)\n",
        "\n",
        "# To predict the time of testing\n",
        "t2_before_testning_VQC_A100 = time()\n",
        "# To test\n",
        "predicted_y_test = vqc.predict(x_test)\n",
        "predicted_y_test = np.argmax(predicted_y_test, axis=1) # reverse one-hot encoding\n",
        "# To store testing time globally\n",
        "test_time_VQC_A100 = round(time()-t2_before_testning_VQC_A100, 5)\n",
        "print(\"Testiing time = \", test_time_VQC_A100)\n",
        "\n",
        "# To store the score globally\n",
        "ScoreVQC_A100 = accuracy_score(y_test, predicted_y_test)\n",
        "print(\"ScoreVQC_A100 = \", ScoreVQC_A100)\n",
        "\n",
        "fig, (ax1, ax2) = plt.subplots(2, 1)\n",
        "ax1.scatter(x_test[:,0], x_test[:,1], c=y_test)\n",
        "ax2.scatter(x_test[:,0], x_test[:,1], c=predicted_y_test)"
      ],
      "execution_count": null,
      "outputs": [
        {
          "output_type": "stream",
          "text": [
            "Training time =  166.18594\n",
            "Testiing time =  0.58321\n",
            "ScoreVQC_A100 =  0.3\n"
          ],
          "name": "stdout"
        },
        {
          "output_type": "execute_result",
          "data": {
            "text/plain": [
              "<matplotlib.collections.PathCollection at 0x7fd4557b3a90>"
            ]
          },
          "metadata": {
            "tags": []
          },
          "execution_count": 27
        },
        {
          "output_type": "display_data",
          "data": {
            "image/png": "[encoded data removed]",
            "text/plain": [
              "<Figure size 432x288 with 2 Axes>"
            ]
          },
          "metadata": {
            "tags": []
          }
        }
      ]
    },
    {
      "cell_type": "markdown",
      "metadata": {
        "id": "fVy-H6wPpLMM"
      },
      "source": [
        "### CircuitQNN classifier (A100)"
      ]
    },
    {
      "cell_type": "code",
      "metadata": {
        "colab": {
          "base_uri": "https://localhost:8080/",
          "height": 332
        },
        "id": "LmIxsZyEg93z",
        "outputId": "3b6eea30-4f6a-443f-c0dc-0903f374bd68"
      },
      "source": [
        "# construct quantum circuit\n",
        "qc = QuantumCircuit(num_qubits)\n",
        "qc.append(feature_map, range(num_qubits))\n",
        "qc.append(ansatz, range(num_qubits))\n",
        "# qc.decompose().draw()\n",
        "\n",
        "# parity maps bitstrings to 0 or 1\n",
        "def parity(x):\n",
        "    return '{:b}'.format(x).count('1') % num_classes\n",
        "output_shape = num_classes  # corresponds to the number of classes, possible outcomes of the (parity) mapping.\n",
        "\n",
        "# construct QNN\n",
        "circuit_qnn = CircuitQNN(circuit=qc, \n",
        "                         input_params=feature_map.parameters,\n",
        "                         weight_params=ansatz.parameters,\n",
        "                         interpret=parity,\n",
        "                         output_shape=output_shape,\n",
        "                         quantum_instance=backend)\n",
        "\n",
        "# construct classifier\n",
        "circuit_classifier = NeuralNetworkClassifier(neural_network=circuit_qnn, optimizer=COBYLA())\n",
        "\n",
        "# To predict the time of training\n",
        "from time import time\n",
        "t3_before_training_QNN_A100 = time()\n",
        "# To train\n",
        "circuit_classifier.fit(x_train, y_train)\n",
        "train_time_QNN_A100 = round(time()-t3_before_training_QNN_A100, 5)\n",
        "print(\"Training time = \",train_time_QNN_A100)\n",
        "\n",
        "# To predict the time of testing\n",
        "t3_before_testning_QNN_A100 = time()\n",
        "# To test\n",
        "predicted_y_test_QNN = qsvc.predict(x_test)\n",
        "test_time_QNN_A100 = round(time()-t3_before_testning_QNN_A100, 5)\n",
        "print(\"Testiing time = \", test_time_QNN_A100)\n",
        "\n",
        "ScoreQNN_A100 = accuracy_score(y_test, predicted_y_test_QNN)\n",
        "print(\"ScoreQNN_A100 = \", ScoreQNN_A100)\n",
        "\n",
        "fig, (ax1, ax2) = plt.subplots(2, 1)\n",
        "ax1.scatter(x_test[:,0], x_test[:,1], c=y_test)\n",
        "ax2.scatter(x_test[:,0], x_test[:,1], c=predicted_y_test_QNN)"
      ],
      "execution_count": null,
      "outputs": [
        {
          "output_type": "stream",
          "text": [
            "Training time =  190.04224\n",
            "Testiing time =  42.55734\n",
            "ScoreQNN_A100 =  0.8\n"
          ],
          "name": "stdout"
        },
        {
          "output_type": "execute_result",
          "data": {
            "text/plain": [
              "<matplotlib.collections.PathCollection at 0x7fd454ad7810>"
            ]
          },
          "metadata": {
            "tags": []
          },
          "execution_count": 28
        },
        {
          "output_type": "display_data",
          "data": {
            "image/png": "[encoded data removed]",
            "text/plain": [
              "<Figure size 432x288 with 2 Axes>"
            ]
          },
          "metadata": {
            "tags": []
          }
        }
      ]
    },
    {
      "cell_type": "markdown",
      "metadata": {
        "id": "BGuI2RD9zBpw"
      },
      "source": [
        "## **(2) A dataset of size 100 (type B) generation by SVC with quantum kernal, QSVC, CQNN, VQC**"
      ]
    },
    {
      "cell_type": "code",
      "metadata": {
        "colab": {
          "base_uri": "https://localhost:8080/",
          "height": 265
        },
        "id": "PIHPumzay4lJ",
        "outputId": "400a24d9-4ff8-48bf-e648-582075fde857"
      },
      "source": [
        "# Two semicircles generation\n",
        "import matplotlib.pyplot as plt\n",
        "import numpy as np\n",
        "\n",
        "def make_semi_circles(n_samples, thk, rad, sep, plot):\n",
        "    noisey = np.random.uniform(low=-thk/100.0, high=thk/100.0, size=(n_samples // 2))\n",
        "    noisex = np.random.uniform(low=-rad/100.0, high=rad/100.0, size=(n_samples // 2))\n",
        "    \n",
        "    separation = np.ones(n_samples // 2)*((-sep*0.1)-0.6)\n",
        "    \n",
        "    n_samples_out = n_samples // 2\n",
        "    n_samples_in = n_samples - n_samples_out\n",
        "    \n",
        "    # generator = check_random_state(random_state)\n",
        "    outer_circ_x = np.cos(np.linspace(0, np.pi, n_samples_out)) + noisex\n",
        "    outer_circ_y = np.sin(np.linspace(0, np.pi, n_samples_out)) + noisey\n",
        "    inner_circ_x = (1 - np.cos(np.linspace(0, np.pi, n_samples_in))) + noisex\n",
        "    inner_circ_y = (1 - np.sin(np.linspace(0, np.pi, n_samples_in)) - .5) + noisey + separation\n",
        "    \n",
        "    X = np.vstack((np.append(outer_circ_x, inner_circ_x),\n",
        "                   np.append(outer_circ_y, inner_circ_y))).T\n",
        "    y = np.hstack([np.ones(n_samples_in, dtype=np.intp)*-1,\n",
        "                   np.ones(n_samples_out, dtype=np.intp)])\n",
        "    \n",
        "    if plot:\n",
        "        plt.plot(outer_circ_x, outer_circ_y, 'r.')\n",
        "        plt.plot(inner_circ_x, inner_circ_y, 'b.')\n",
        "        plt.show()\n",
        "\n",
        "    return X, y\n",
        "\n",
        "X, y = make_semi_circles(n_samples=100, thk=2, rad=5, sep=-5, plot=True)"
      ],
      "execution_count": null,
      "outputs": [
        {
          "output_type": "display_data",
          "data": {
            "image/png": "[encoded data removed]",
            "text/plain": [
              "<Figure size 432x288 with 1 Axes>"
            ]
          },
          "metadata": {
            "tags": []
          }
        }
      ]
    },
    {
      "cell_type": "code",
      "metadata": {
        "id": "Bo17HB3qcr0B"
      },
      "source": [
        "# split the data set as 20% in test set and 80% in training set (without removing outliers)\n",
        "from sklearn.model_selection import train_test_split\n",
        "x_train, x_test, y_train, y_test = train_test_split(X, y, test_size=0.20, random_state=42)"
      ],
      "execution_count": null,
      "outputs": []
    },
    {
      "cell_type": "markdown",
      "metadata": {
        "id": "3nBYBf6n5NMZ"
      },
      "source": [
        "### SVC with quantum kernal (B100)"
      ]
    },
    {
      "cell_type": "code",
      "metadata": {
        "colab": {
          "base_uri": "https://localhost:8080/",
          "height": 334
        },
        "id": "Q9LN7QVe4TeW",
        "outputId": "1529e2d8-05a4-4630-932e-6ada4d433634"
      },
      "source": [
        "kernel = QuantumKernel(feature_map=feature_map, quantum_instance=backend)\n",
        "svc = SVC(kernel=kernel.evaluate)\n",
        "\n",
        "# To predict the time of training\n",
        "from time import time\n",
        "t0_before_training_SVCQK_B100 = time()\n",
        "# To train\n",
        "svc.fit(x_train, y_train)\n",
        "# To store training time globally\n",
        "train_time_SVCQK_B100 = round(time()-t0_before_training_SVCQK_B100, 5)\n",
        "print(\"Training time = \",train_time_SVCQK_B100)\n",
        "\n",
        "# To predict the time of testing\n",
        "t0_before_testning_SVCQK_B100 = time()\n",
        "# To test\n",
        "predicted_y_test = svc.predict(x_test)\n",
        "# To store testing time globally\n",
        "test_time_SVCQK_B100 = round(time()-t0_before_testning_SVCQK_B100, 5)\n",
        "print(\"Testing time = \",test_time_SVCQK_B100)\n",
        "\n",
        "# To store the score globally\n",
        "ScoreSVCQK_B100 = accuracy_score(y_test, predicted_y_test)\n",
        "print(\"ScoreSVCQK_B100 = \",ScoreSVCQK_B100)\n",
        "\n",
        "fig, (ax1, ax2) = plt.subplots(2, 1)\n",
        "ax1.scatter(x_test[:,0], x_test[:,1], c=y_test)\n",
        "ax2.scatter(x_test[:,0], x_test[:,1], c=predicted_y_test)"
      ],
      "execution_count": null,
      "outputs": [
        {
          "output_type": "stream",
          "text": [
            "Training time =  83.01313\n",
            "Testing time =  42.52731\n",
            "ScoreSVCQK_B100 =  0.85\n"
          ],
          "name": "stdout"
        },
        {
          "output_type": "execute_result",
          "data": {
            "text/plain": [
              "<matplotlib.collections.PathCollection at 0x7fd454fad7d0>"
            ]
          },
          "metadata": {
            "tags": []
          },
          "execution_count": 31
        },
        {
          "output_type": "display_data",
          "data": {
            "image/png": "[encoded data removed]",
            "text/plain": [
              "<Figure size 432x288 with 2 Axes>"
            ]
          },
          "metadata": {
            "tags": []
          }
        }
      ]
    },
    {
      "cell_type": "markdown",
      "metadata": {
        "id": "AFyPcN3P8sNq"
      },
      "source": [
        "### QSVC (B100)"
      ]
    },
    {
      "cell_type": "code",
      "metadata": {
        "colab": {
          "base_uri": "https://localhost:8080/",
          "height": 334
        },
        "id": "vJcDaPl6ALFE",
        "outputId": "6b72ed66-5a09-47af-ad78-57e50521dc8c"
      },
      "source": [
        "qsvc = QSVC(quantum_kernel=kernel)\n",
        "\n",
        "# To predict the time of training\n",
        "from time import time\n",
        "t1_before_training_QSVC_B100 = time()\n",
        "# To train\n",
        "qsvc.fit(x_train, y_train)\n",
        "# To store training time globally\n",
        "train_time_QSVC_B100 = round(time()-t1_before_training_QSVC_B100, 5)\n",
        "print(\"Training time = \",train_time_QSVC_B100)\n",
        "\n",
        "# To predict the time of testing\n",
        "t1_before_testning_QSVC_B100 = time()\n",
        "# To test\n",
        "predicted_y_test = qsvc.predict(x_test)\n",
        "# To store testing time globally\n",
        "test_time_QSVC_B100 = round(time()-t1_before_testning_QSVC_B100, 5)\n",
        "print(\"Testiing time = \", test_time_QSVC_B100)\n",
        "\n",
        "# To store the score globally\n",
        "ScoreQSVC_B100 = accuracy_score(y_test, predicted_y_test)\n",
        "print(\"ScoreQSVC_B100 = \",ScoreQSVC_B100)\n",
        "\n",
        "fig, (ax1, ax2) = plt.subplots(2, 1)\n",
        "ax1.scatter(x_test[:,0], x_test[:,1], c=y_test)\n",
        "ax2.scatter(x_test[:,0], x_test[:,1], c=predicted_y_test)"
      ],
      "execution_count": null,
      "outputs": [
        {
          "output_type": "stream",
          "text": [
            "Training time =  83.16945\n",
            "Testiing time =  42.38876\n",
            "ScoreQSVC_B100 =  0.85\n"
          ],
          "name": "stdout"
        },
        {
          "output_type": "execute_result",
          "data": {
            "text/plain": [
              "<matplotlib.collections.PathCollection at 0x7fd45283b510>"
            ]
          },
          "metadata": {
            "tags": []
          },
          "execution_count": 32
        },
        {
          "output_type": "display_data",
          "data": {
            "image/png": "[encoded data removed]",
            "text/plain": [
              "<Figure size 432x288 with 2 Axes>"
            ]
          },
          "metadata": {
            "tags": []
          }
        }
      ]
    },
    {
      "cell_type": "markdown",
      "metadata": {
        "id": "om2vK-wpy3Jh"
      },
      "source": [
        "### VQC (B100)"
      ]
    },
    {
      "cell_type": "code",
      "metadata": {
        "colab": {
          "base_uri": "https://localhost:8080/",
          "height": 334
        },
        "id": "-MCNj5Yry3iU",
        "outputId": "fb67849a-1b8d-4f4a-8e88-46f0b4bcba97"
      },
      "source": [
        "# construct variational quantum classifier\n",
        "vqc = VQC(feature_map=feature_map,\n",
        "          ansatz=ansatz, \n",
        "          loss='cross_entropy',\n",
        "          optimizer=COBYLA(), \n",
        "          quantum_instance=backend)\n",
        "\n",
        "# To predict the time of training\n",
        "from time import time\n",
        "t2_before_training_VQC_B100 = time()\n",
        "# To train\n",
        "train_y_one_hot = OneHotEncoder(sparse=False).fit_transform(y_train.reshape(-1, 1))\n",
        "vqc.fit(x_train, train_y_one_hot)\n",
        "# To store training time globally\n",
        "train_time_VQC_B100 = round(time()-t2_before_training_VQC_B100, 5)\n",
        "print(\"Training time = \",train_time_VQC_B100)\n",
        "\n",
        "# To predict the time of testing\n",
        "t2_before_testning_VQC_B100 = time()\n",
        "# To test\n",
        "predicted_y_test = vqc.predict(x_test)\n",
        "predicted_y_test = np.argmax(predicted_y_test, axis=1) # reverse one-hot encoding\n",
        "# To store testing time globally\n",
        "test_time_VQC_B100 = round(time()-t2_before_testning_VQC_B100, 5)\n",
        "print(\"Testiing time = \", test_time_VQC_B100)\n",
        "\n",
        "# To store the score globally\n",
        "ScoreVQC_B100 = accuracy_score(y_test, predicted_y_test)\n",
        "print(\"ScoreVQC_B100 = \", ScoreVQC_B100)\n",
        "\n",
        "fig, (ax1, ax2) = plt.subplots(2, 1)\n",
        "ax1.scatter(x_test[:,0], x_test[:,1], c=y_test)\n",
        "ax2.scatter(x_test[:,0], x_test[:,1], c=predicted_y_test)"
      ],
      "execution_count": null,
      "outputs": [
        {
          "output_type": "stream",
          "text": [
            "Training time =  154.16342\n",
            "Testiing time =  0.59865\n",
            "ScoreVQC_B100 =  0.3\n"
          ],
          "name": "stdout"
        },
        {
          "output_type": "execute_result",
          "data": {
            "text/plain": [
              "<matplotlib.collections.PathCollection at 0x7fd4583aa6d0>"
            ]
          },
          "metadata": {
            "tags": []
          },
          "execution_count": 33
        },
        {
          "output_type": "display_data",
          "data": {
            "image/png": "[encoded data removed]",
            "text/plain": [
              "<Figure size 432x288 with 2 Axes>"
            ]
          },
          "metadata": {
            "tags": []
          }
        }
      ]
    },
    {
      "cell_type": "markdown",
      "metadata": {
        "id": "jdu9IpEPzbI2"
      },
      "source": [
        "### CircuitQNN classifier (B100)"
      ]
    },
    {
      "cell_type": "code",
      "metadata": {
        "colab": {
          "base_uri": "https://localhost:8080/",
          "height": 334
        },
        "id": "utLV3_Jg12Xz",
        "outputId": "987cb76c-fe4c-49c0-f482-5d8d2bc82b0d"
      },
      "source": [
        "# construct quantum circuit\n",
        "qc = QuantumCircuit(num_qubits)\n",
        "qc.append(feature_map, range(num_qubits))\n",
        "qc.append(ansatz, range(num_qubits))\n",
        "# qc.decompose().draw()\n",
        "\n",
        "# parity maps bitstrings to 0 or 1\n",
        "def parity(x):\n",
        "    return '{:b}'.format(x).count('1') % num_classes\n",
        "output_shape = num_classes  # corresponds to the number of classes, possible outcomes of the (parity) mapping.\n",
        "\n",
        "# construct QNN\n",
        "circuit_qnn = CircuitQNN(circuit=qc, \n",
        "                         input_params=feature_map.parameters,\n",
        "                         weight_params=ansatz.parameters,\n",
        "                         interpret=parity,\n",
        "                         output_shape=output_shape,\n",
        "                         quantum_instance=backend)\n",
        "\n",
        "# construct classifier\n",
        "circuit_classifier = NeuralNetworkClassifier(neural_network=circuit_qnn, optimizer=COBYLA())\n",
        "\n",
        "# To predict the time of training\n",
        "from time import time\n",
        "t3_before_training_QNN_B100 = time()\n",
        "# To train\n",
        "circuit_classifier.fit(x_train, y_train)\n",
        "train_time_QNN_B100 = round(time()-t3_before_training_QNN_B100, 5)\n",
        "print(\"Training time = \",train_time_QNN_B100)\n",
        "\n",
        "# To predict the time of testing\n",
        "t3_before_testning_QNN_B100 = time()\n",
        "# To test\n",
        "predicted_y_test_QNN = qsvc.predict(x_test)\n",
        "test_time_QNN_B100 = round(time()-t3_before_testning_QNN_B100, 5)\n",
        "print(\"Testiing time = \", test_time_QNN_B100)\n",
        "\n",
        "ScoreQNN_B100 = accuracy_score(y_test, predicted_y_test_QNN)\n",
        "print(\"ScoreQNN_B100 = \", ScoreQNN_B100)\n",
        "\n",
        "fig, (ax1, ax2) = plt.subplots(2, 1)\n",
        "ax1.scatter(x_test[:,0], x_test[:,1], c=y_test)\n",
        "ax2.scatter(x_test[:,0], x_test[:,1], c=predicted_y_test_QNN)"
      ],
      "execution_count": null,
      "outputs": [
        {
          "output_type": "stream",
          "text": [
            "Training time =  146.43468\n",
            "Testiing time =  42.74762\n",
            "ScoreQNN_B100 =  0.85\n"
          ],
          "name": "stdout"
        },
        {
          "output_type": "execute_result",
          "data": {
            "text/plain": [
              "<matplotlib.collections.PathCollection at 0x7fd452ec3dd0>"
            ]
          },
          "metadata": {
            "tags": []
          },
          "execution_count": 34
        },
        {
          "output_type": "display_data",
          "data": {
            "image/png": "[encoded data removed]",
            "text/plain": [
              "<Figure size 432x288 with 2 Axes>"
            ]
          },
          "metadata": {
            "tags": []
          }
        }
      ]
    },
    {
      "cell_type": "markdown",
      "metadata": {
        "id": "BrwhUBM6zF2N"
      },
      "source": [
        "## **(3) A dataset of size 200 (type A) generation by SVC with quantum kernal, QSVC, CQNN, VQC**"
      ]
    },
    {
      "cell_type": "code",
      "metadata": {
        "colab": {
          "base_uri": "https://localhost:8080/",
          "height": 265
        },
        "id": "Xr4ugV22zi8X",
        "outputId": "5a793bb5-a230-4f47-dc72-c93d65c2f526"
      },
      "source": [
        "# Two semicircles generation\n",
        "import matplotlib.pyplot as plt\n",
        "import numpy as np\n",
        "\n",
        "def make_semi_circles(n_samples, thk, rad, sep, plot):\n",
        "    noisey = np.random.uniform(low=-thk/100.0, high=thk/100.0, size=(n_samples // 2))\n",
        "    noisex = np.random.uniform(low=-rad/100.0, high=rad/100.0, size=(n_samples // 2))\n",
        "    \n",
        "    separation = np.ones(n_samples // 2)*((-sep*0.1)-0.6)\n",
        "    \n",
        "    n_samples_out = n_samples // 2\n",
        "    n_samples_in = n_samples - n_samples_out\n",
        "    \n",
        "    # generator = check_random_state(random_state)\n",
        "    outer_circ_x = np.cos(np.linspace(0, np.pi, n_samples_out)) + noisex\n",
        "    outer_circ_y = np.sin(np.linspace(0, np.pi, n_samples_out)) + noisey\n",
        "    inner_circ_x = (1 - np.cos(np.linspace(0, np.pi, n_samples_in))) + noisex\n",
        "    inner_circ_y = (1 - np.sin(np.linspace(0, np.pi, n_samples_in)) - .5) + noisey + separation\n",
        "    \n",
        "    X = np.vstack((np.append(outer_circ_x, inner_circ_x),\n",
        "                   np.append(outer_circ_y, inner_circ_y))).T\n",
        "    y = np.hstack([np.ones(n_samples_in, dtype=np.intp)*-1,\n",
        "                   np.ones(n_samples_out, dtype=np.intp)])\n",
        "    \n",
        "    if plot:\n",
        "        plt.plot(outer_circ_x, outer_circ_y, 'r.')\n",
        "        plt.plot(inner_circ_x, inner_circ_y, 'b.')\n",
        "        plt.show()\n",
        "\n",
        "    return X, y\n",
        "\n",
        "X, y = make_semi_circles(n_samples=200, thk=2, rad=5, sep=2, plot=True)"
      ],
      "execution_count": null,
      "outputs": [
        {
          "output_type": "display_data",
          "data": {
            "image/png": "[encoded data removed]",
            "text/plain": [
              "<Figure size 432x288 with 1 Axes>"
            ]
          },
          "metadata": {
            "tags": []
          }
        }
      ]
    },
    {
      "cell_type": "code",
      "metadata": {
        "id": "0VU2ALXLxQMS"
      },
      "source": [
        "# split the data set as 15% in test set and 85% in training set (without removing outliers)\n",
        "from sklearn.model_selection import train_test_split\n",
        "x_train, x_test, y_train, y_test = train_test_split(X, y, test_size=0.20, random_state=42)"
      ],
      "execution_count": null,
      "outputs": []
    },
    {
      "cell_type": "markdown",
      "metadata": {
        "id": "Va3LcoCh7EIW"
      },
      "source": [
        "## SVC with quantum kernal (A200)"
      ]
    },
    {
      "cell_type": "code",
      "metadata": {
        "colab": {
          "base_uri": "https://localhost:8080/",
          "height": 332
        },
        "id": "uJPiiUnX6_bt",
        "outputId": "4de3baca-a047-4022-c50f-ec89ef2d1b98"
      },
      "source": [
        "kernel = QuantumKernel(feature_map=feature_map, quantum_instance=backend)\n",
        "svc = SVC(kernel=kernel.evaluate)\n",
        "\n",
        "# To predict the time of training\n",
        "from time import time\n",
        "t0_before_training_SVCQK_A200 = time()\n",
        "# To train\n",
        "svc.fit(x_train, y_train)\n",
        "# To store training time globally\n",
        "train_time_SVCQK_A200 = round(time()-t0_before_training_SVCQK_A200, 5)\n",
        "print(\"Training time = \",train_time_SVCQK_A200)\n",
        "\n",
        "# To predict the time of testing\n",
        "t0_before_testning_SVCQK_A200 = time()\n",
        "# To test\n",
        "predicted_y_test = svc.predict(x_test)\n",
        "# To store testing time globally\n",
        "test_time_SVCQK_A200 = round(time()-t0_before_testning_SVCQK_A200, 5)\n",
        "print(\"Testing time = \",test_time_SVCQK_A200)\n",
        "\n",
        "# To store the score globally\n",
        "ScoreSVCQK_A200 = accuracy_score(y_test, predicted_y_test)\n",
        "print(\"ScoreSVCQK_A200 = \",ScoreSVCQK_A200)\n",
        "\n",
        "fig, (ax1, ax2) = plt.subplots(2, 1)\n",
        "ax1.scatter(x_test[:,0], x_test[:,1], c=y_test)\n",
        "ax2.scatter(x_test[:,0], x_test[:,1], c=predicted_y_test)"
      ],
      "execution_count": null,
      "outputs": [
        {
          "output_type": "stream",
          "text": [
            "Training time =  336.50589\n",
            "Testing time =  168.76753\n",
            "ScoreSVCQK_A200 =  0.8\n"
          ],
          "name": "stdout"
        },
        {
          "output_type": "execute_result",
          "data": {
            "text/plain": [
              "<matplotlib.collections.PathCollection at 0x7fd4556fe890>"
            ]
          },
          "metadata": {
            "tags": []
          },
          "execution_count": 37
        },
        {
          "output_type": "display_data",
          "data": {
            "image/png": "[encoded data removed]",
            "text/plain": [
              "<Figure size 432x288 with 2 Axes>"
            ]
          },
          "metadata": {
            "tags": []
          }
        }
      ]
    },
    {
      "cell_type": "markdown",
      "metadata": {
        "id": "_b4OdBac9ISE"
      },
      "source": [
        "### QSVC (A200)"
      ]
    },
    {
      "cell_type": "code",
      "metadata": {
        "colab": {
          "base_uri": "https://localhost:8080/",
          "height": 332
        },
        "id": "l6JRG7e7xAhm",
        "outputId": "1d83f167-441f-4f67-bfe4-dfe7e459dd1f"
      },
      "source": [
        "qsvc = QSVC(quantum_kernel=kernel)\n",
        "\n",
        "# To predict the time of training\n",
        "from time import time\n",
        "t1_before_training_QSVC_A200 = time()\n",
        "# To train\n",
        "qsvc.fit(x_train, y_train)\n",
        "# To store training time globally\n",
        "train_time_QSVC_A200 = round(time()-t1_before_training_QSVC_A200, 5)\n",
        "print(\"Training time = \",train_time_QSVC_A200)\n",
        "\n",
        "# To predict the time of testing\n",
        "t1_before_testning_QSVC_A200 = time()\n",
        "# To test\n",
        "predicted_y_test = qsvc.predict(x_test)\n",
        "# To store testing time globally\n",
        "test_time_QSVC_A200 = round(time()-t1_before_testning_QSVC_A200, 5)\n",
        "print(\"Testiing time = \", test_time_QSVC_A200)\n",
        "\n",
        "# To store the score globally\n",
        "ScoreQSVC_A200 = accuracy_score(y_test, predicted_y_test)\n",
        "print(\"ScoreQSVC_A200 = \",ScoreQSVC_A200)\n",
        "\n",
        "fig, (ax1, ax2) = plt.subplots(2, 1)\n",
        "ax1.scatter(x_test[:,0], x_test[:,1], c=y_test)\n",
        "ax2.scatter(x_test[:,0], x_test[:,1], c=predicted_y_test)"
      ],
      "execution_count": null,
      "outputs": [
        {
          "output_type": "stream",
          "text": [
            "Training time =  335.5877\n",
            "Testiing time =  169.00264\n",
            "ScoreQSVC_A200 =  0.8\n"
          ],
          "name": "stdout"
        },
        {
          "output_type": "execute_result",
          "data": {
            "text/plain": [
              "<matplotlib.collections.PathCollection at 0x7fd4536662d0>"
            ]
          },
          "metadata": {
            "tags": []
          },
          "execution_count": 38
        },
        {
          "output_type": "display_data",
          "data": {
            "image/png": "[encoded data removed]",
            "text/plain": [
              "<Figure size 432x288 with 2 Axes>"
            ]
          },
          "metadata": {
            "tags": []
          }
        }
      ]
    },
    {
      "cell_type": "markdown",
      "metadata": {
        "id": "tLUsj2uNzEpE"
      },
      "source": [
        "### VQC (A200)"
      ]
    },
    {
      "cell_type": "code",
      "metadata": {
        "colab": {
          "base_uri": "https://localhost:8080/",
          "height": 332
        },
        "id": "FJAm9G4nzxKw",
        "outputId": "f4ca440d-0575-4fb9-eb50-da6cf8e82a4e"
      },
      "source": [
        "# construct variational quantum classifier\n",
        "vqc = VQC(feature_map=feature_map,\n",
        "          ansatz=ansatz, \n",
        "          loss='cross_entropy',\n",
        "          optimizer=COBYLA(), \n",
        "          quantum_instance=backend)\n",
        "\n",
        "# To predict the time of training\n",
        "from time import time\n",
        "t2_before_training_VQC_A200 = time()\n",
        "# To train\n",
        "train_y_one_hot = OneHotEncoder(sparse=False).fit_transform(y_train.reshape(-1, 1))\n",
        "vqc.fit(x_train, train_y_one_hot)\n",
        "# To store training time globally\n",
        "train_time_VQC_A200 = round(time()-t2_before_training_VQC_A200, 5)\n",
        "print(\"Training time = \",train_time_VQC_A200)\n",
        "\n",
        "# To predict the time of testing\n",
        "t2_before_testning_VQC_A200 = time()\n",
        "# To test\n",
        "predicted_y_test = vqc.predict(x_test)\n",
        "predicted_y_test = np.argmax(predicted_y_test, axis=1) # reverse one-hot encoding\n",
        "# To store testing time globally\n",
        "test_time_VQC_A200 = round(time()-t2_before_testning_VQC_A200, 5)\n",
        "print(\"Testiing time = \", test_time_VQC_A200)\n",
        "\n",
        "# To store the score globally\n",
        "ScoreVQC_A200 = accuracy_score(y_test, predicted_y_test)\n",
        "print(\"ScoreVQC_A200 = \", ScoreVQC_A200)\n",
        "\n",
        "fig, (ax1, ax2) = plt.subplots(2, 1)\n",
        "ax1.scatter(x_test[:,0], x_test[:,1], c=y_test)\n",
        "ax2.scatter(x_test[:,0], x_test[:,1], c=predicted_y_test)"
      ],
      "execution_count": null,
      "outputs": [
        {
          "output_type": "stream",
          "text": [
            "Training time =  268.37226\n",
            "Testiing time =  1.18134\n",
            "ScoreVQC_A200 =  0.25\n"
          ],
          "name": "stdout"
        },
        {
          "output_type": "execute_result",
          "data": {
            "text/plain": [
              "<matplotlib.collections.PathCollection at 0x7fd452fc1c50>"
            ]
          },
          "metadata": {
            "tags": []
          },
          "execution_count": 39
        },
        {
          "output_type": "display_data",
          "data": {
            "image/png": "[encoded data removed]",
            "text/plain": [
              "<Figure size 432x288 with 2 Axes>"
            ]
          },
          "metadata": {
            "tags": []
          }
        }
      ]
    },
    {
      "cell_type": "markdown",
      "metadata": {
        "id": "-7w-wm38zn2G"
      },
      "source": [
        "### CircuitQNN classifier (A200)"
      ]
    },
    {
      "cell_type": "code",
      "metadata": {
        "colab": {
          "background_save": true,
          "base_uri": "https://localhost:8080/"
        },
        "id": "vmbIfz1UzxuN",
        "outputId": "3e15c381-107f-429d-fc16-5eeb6e0cee7c"
      },
      "source": [
        "# construct quantum circuit\n",
        "qc = QuantumCircuit(num_qubits)\n",
        "qc.append(feature_map, range(num_qubits))\n",
        "qc.append(ansatz, range(num_qubits))\n",
        "# qc.decompose().draw()\n",
        "\n",
        "# parity maps bitstrings to 0 or 1\n",
        "def parity(x):\n",
        "    return '{:b}'.format(x).count('1') % num_classes\n",
        "output_shape = num_classes  # corresponds to the number of classes, possible outcomes of the (parity) mapping.\n",
        "\n",
        "# construct QNN\n",
        "circuit_qnn = CircuitQNN(circuit=qc, \n",
        "                         input_params=feature_map.parameters,\n",
        "                         weight_params=ansatz.parameters,\n",
        "                         interpret=parity,\n",
        "                         output_shape=output_shape,\n",
        "                         quantum_instance=backend)\n",
        "\n",
        "# construct classifier\n",
        "circuit_classifier = NeuralNetworkClassifier(neural_network=circuit_qnn, optimizer=COBYLA())\n",
        "\n",
        "# To predict the time of training\n",
        "from time import time\n",
        "t3_before_training_QNN_A200 = time()\n",
        "# To train\n",
        "circuit_classifier.fit(x_train, y_train)\n",
        "train_time_QNN_A200 = round(time()-t3_before_training_QNN_A200, 5)\n",
        "print(\"Training time = \",train_time_QNN_A200)\n",
        "\n",
        "# To predict the time of testing\n",
        "t3_before_testning_QNN_A200 = time()\n",
        "# To test\n",
        "predicted_y_test_QNN = qsvc.predict(x_test)\n",
        "test_time_QNN_A200 = round(time()-t3_before_testning_QNN_A200, 5)\n",
        "print(\"Testiing time = \", test_time_QNN_A200)\n",
        "\n",
        "ScoreQNN_A200 = accuracy_score(y_test, predicted_y_test_QNN)\n",
        "print(\"ScoreQNN_A200 = \", ScoreQNN_A200)\n",
        "\n",
        "fig, (ax1, ax2) = plt.subplots(2, 1)\n",
        "ax1.scatter(x_test[:,0], x_test[:,1], c=y_test)\n",
        "ax2.scatter(x_test[:,0], x_test[:,1], c=predicted_y_test_QNN)"
      ],
      "execution_count": null,
      "outputs": [
        {
          "output_type": "stream",
          "text": [
            "Training time =  324.84457\n",
            "Testiing time =  164.41676\n",
            "ScoreQNN_A200 =  0.8\n"
          ],
          "name": "stdout"
        },
        {
          "output_type": "execute_result",
          "data": {
            "text/plain": [
              "<matplotlib.collections.PathCollection at 0x7fd45831f750>"
            ]
          },
          "metadata": {
            "tags": []
          },
          "execution_count": 0
        },
        {
          "output_type": "display_data",
          "data": {
            "image/png": "[encoded data removed]",
            "text/plain": [
              "<Figure size 432x288 with 2 Axes>"
            ]
          },
          "metadata": {
            "tags": []
          }
        }
      ]
    },
    {
      "cell_type": "markdown",
      "metadata": {
        "id": "p8ftLJ3-zIyp"
      },
      "source": [
        "## **(4) A dataset of size 200 (type B) generation by SVC with quantum kernal, QSVC, CQNN, VQC**"
      ]
    },
    {
      "cell_type": "code",
      "metadata": {
        "colab": {
          "background_save": true
        },
        "id": "U3GcdZzxzoms",
        "outputId": "31045dd4-79ca-444f-8c7c-b8db6fd786b9"
      },
      "source": [
        "# Two semicircles generation\n",
        "import matplotlib.pyplot as plt\n",
        "import numpy as np\n",
        "\n",
        "def make_semi_circles(n_samples, thk, rad, sep, plot):\n",
        "    noisey = np.random.uniform(low=-thk/100.0, high=thk/100.0, size=(n_samples // 2))\n",
        "    noisex = np.random.uniform(low=-rad/100.0, high=rad/100.0, size=(n_samples // 2))\n",
        "    \n",
        "    separation = np.ones(n_samples // 2)*((-sep*0.1)-0.6)\n",
        "    \n",
        "    n_samples_out = n_samples // 2\n",
        "    n_samples_in = n_samples - n_samples_out\n",
        "    \n",
        "    # generator = check_random_state(random_state)\n",
        "    outer_circ_x = np.cos(np.linspace(0, np.pi, n_samples_out)) + noisex\n",
        "    outer_circ_y = np.sin(np.linspace(0, np.pi, n_samples_out)) + noisey\n",
        "    inner_circ_x = (1 - np.cos(np.linspace(0, np.pi, n_samples_in))) + noisex\n",
        "    inner_circ_y = (1 - np.sin(np.linspace(0, np.pi, n_samples_in)) - .5) + noisey + separation\n",
        "    \n",
        "    X = np.vstack((np.append(outer_circ_x, inner_circ_x),\n",
        "                   np.append(outer_circ_y, inner_circ_y))).T\n",
        "    y = np.hstack([np.ones(n_samples_in, dtype=np.intp)*-1,\n",
        "                   np.ones(n_samples_out, dtype=np.intp)])\n",
        "    \n",
        "    if plot:\n",
        "        plt.plot(outer_circ_x, outer_circ_y, 'r.')\n",
        "        plt.plot(inner_circ_x, inner_circ_y, 'b.')\n",
        "        plt.show()\n",
        "\n",
        "    return X, y\n",
        "\n",
        "X, y = make_semi_circles(n_samples=200, thk=2, rad=5, sep=-5, plot=True)"
      ],
      "execution_count": null,
      "outputs": [
        {
          "output_type": "display_data",
          "data": {
            "image/png": "[encoded data removed]",
            "text/plain": [
              "<Figure size 432x288 with 1 Axes>"
            ]
          },
          "metadata": {
            "tags": []
          }
        }
      ]
    },
    {
      "cell_type": "code",
      "metadata": {
        "colab": {
          "background_save": true
        },
        "id": "7Um3qC7-wyH5"
      },
      "source": [
        "# split the data set as 15% in test set and 85% in training set (without removing outliers)\n",
        "from sklearn.model_selection import train_test_split\n",
        "x_train, x_test, y_train, y_test = train_test_split(X, y, test_size=0.20, random_state=42)"
      ],
      "execution_count": null,
      "outputs": []
    },
    {
      "cell_type": "markdown",
      "metadata": {
        "id": "gA9GFYTe5b9a"
      },
      "source": [
        "## SVC with quantum kernal (B200)"
      ]
    },
    {
      "cell_type": "code",
      "metadata": {
        "id": "GuQNaVXJ5YKs",
        "colab": {
          "base_uri": "https://localhost:8080/",
          "height": 332
        },
        "outputId": "6f54bf61-b872-41ed-e5a4-ff2e94ff2e79"
      },
      "source": [
        "kernel = QuantumKernel(feature_map=feature_map, quantum_instance=backend)\n",
        "svc = SVC(kernel=kernel.evaluate)\n",
        "\n",
        "# To predict the time of training\n",
        "from time import time\n",
        "t0_before_training_SVCQK_B200 = time()\n",
        "# To train\n",
        "svc.fit(x_train, y_train)\n",
        "# To store training time globally\n",
        "train_time_SVCQK_B200 = round(time()-t0_before_training_SVCQK_B200, 5)\n",
        "print(\"Training time = \",train_time_SVCQK_B200)\n",
        "\n",
        "# To predict the time of testing\n",
        "t0_before_testning_SVCQK_B200 = time()\n",
        "# To test\n",
        "predicted_y_test = svc.predict(x_test)\n",
        "# To store testing time globally\n",
        "test_time_SVCQK_B200 = round(time()-t0_before_testning_SVCQK_B200, 5)\n",
        "print(\"Testing time = \",test_time_SVCQK_B200)\n",
        "\n",
        "# To store the score globally\n",
        "ScoreSVCQK_B200 = accuracy_score(y_test, predicted_y_test)\n",
        "print(\"ScoreSVCQK_B200 = \",ScoreSVCQK_B200)\n",
        "\n",
        "fig, (ax1, ax2) = plt.subplots(2, 1)\n",
        "ax1.scatter(x_test[:,0], x_test[:,1], c=y_test)\n",
        "ax2.scatter(x_test[:,0], x_test[:,1], c=predicted_y_test)"
      ],
      "execution_count": 43,
      "outputs": [
        {
          "output_type": "stream",
          "text": [
            "Training time =  315.83687\n",
            "Testing time =  160.01458\n",
            "ScoreSVCQK_B200 =  0.625\n"
          ],
          "name": "stdout"
        },
        {
          "output_type": "execute_result",
          "data": {
            "text/plain": [
              "<matplotlib.collections.PathCollection at 0x7fd454a43c90>"
            ]
          },
          "metadata": {
            "tags": []
          },
          "execution_count": 43
        },
        {
          "output_type": "display_data",
          "data": {
            "image/png": "[encoded data removed]",
            "text/plain": [
              "<Figure size 432x288 with 2 Axes>"
            ]
          },
          "metadata": {
            "tags": [],
            "needs_background": "light"
          }
        }
      ]
    },
    {
      "cell_type": "markdown",
      "metadata": {
        "id": "Nbzg6cdo9QEQ"
      },
      "source": [
        "### QSVC (B200)"
      ]
    },
    {
      "cell_type": "code",
      "metadata": {
        "id": "8beGq0GwxTyr",
        "colab": {
          "base_uri": "https://localhost:8080/",
          "height": 332
        },
        "outputId": "e3d7ae64-cd4d-43e9-abdc-24f6ba6696bd"
      },
      "source": [
        "qsvc = QSVC(quantum_kernel=kernel)\n",
        "\n",
        "# To predict the time of training\n",
        "from time import time\n",
        "t1_before_training_QSVC_B200 = time()\n",
        "# To train\n",
        "qsvc.fit(x_train, y_train)\n",
        "# To store training time globally\n",
        "train_time_QSVC_B200 = round(time()-t1_before_training_QSVC_B200, 5)\n",
        "print(\"Training time = \",train_time_QSVC_B200)\n",
        "\n",
        "# To predict the time of testing\n",
        "t1_before_testning_QSVC_B200 = time()\n",
        "# To test\n",
        "predicted_y_test = qsvc.predict(x_test)\n",
        "# To store testing time globally\n",
        "test_time_QSVC_B200 = round(time()-t1_before_testning_QSVC_B200, 5)\n",
        "print(\"Testiing time = \", test_time_QSVC_B200)\n",
        "\n",
        "# To store the score globally\n",
        "ScoreQSVC_B200 = accuracy_score(y_test, predicted_y_test)\n",
        "print(\"ScoreQSVC_B200 = \",ScoreQSVC_B200)\n",
        "\n",
        "fig, (ax1, ax2) = plt.subplots(2, 1)\n",
        "ax1.scatter(x_test[:,0], x_test[:,1], c=y_test)\n",
        "ax2.scatter(x_test[:,0], x_test[:,1], c=predicted_y_test)"
      ],
      "execution_count": 44,
      "outputs": [
        {
          "output_type": "stream",
          "text": [
            "Training time =  320.84739\n",
            "Testiing time =  159.72891\n",
            "ScoreQSVC_B200 =  0.625\n"
          ],
          "name": "stdout"
        },
        {
          "output_type": "execute_result",
          "data": {
            "text/plain": [
              "<matplotlib.collections.PathCollection at 0x7fd458c25b90>"
            ]
          },
          "metadata": {
            "tags": []
          },
          "execution_count": 44
        },
        {
          "output_type": "display_data",
          "data": {
            "image/png": "[encoded data removed]",
            "text/plain": [
              "<Figure size 432x288 with 2 Axes>"
            ]
          },
          "metadata": {
            "tags": [],
            "needs_background": "light"
          }
        }
      ]
    },
    {
      "cell_type": "markdown",
      "metadata": {
        "id": "euNzMSplzKCB"
      },
      "source": [
        "### VQC (B200)"
      ]
    },
    {
      "cell_type": "code",
      "metadata": {
        "id": "aL6rNZ6A0ECC"
      },
      "source": [
        "# construct variational quantum classifier\n",
        "vqc = VQC(feature_map=feature_map,\n",
        "          ansatz=ansatz, \n",
        "          loss='cross_entropy',\n",
        "          optimizer=COBYLA(), \n",
        "          quantum_instance=backend)\n",
        "\n",
        "# To predict the time of training\n",
        "from time import time\n",
        "t2_before_training_VQC_B200 = time()\n",
        "# To train\n",
        "train_y_one_hot = OneHotEncoder(sparse=False).fit_transform(y_train.reshape(-1, 1))\n",
        "vqc.fit(x_train, train_y_one_hot)\n",
        "# To store training time globally\n",
        "train_time_VQC_B200 = round(time()-t2_before_training_VQC_B200, 5)\n",
        "print(\"Training time = \",train_time_VQC_B200)\n",
        "\n",
        "# To predict the time of testing\n",
        "t2_before_testning_VQC_B200 = time()\n",
        "# To test\n",
        "predicted_y_test = vqc.predict(x_test)\n",
        "predicted_y_test = np.argmax(predicted_y_test, axis=1) # reverse one-hot encoding\n",
        "# To store testing time globally\n",
        "test_time_VQC_B200 = round(time()-t2_before_testning_VQC_B200, 5)\n",
        "print(\"Testiing time = \", test_time_VQC_B200)\n",
        "\n",
        "# To store the score globally\n",
        "ScoreVQC_B200 = accuracy_score(y_test, predicted_y_test)\n",
        "print(\"ScoreVQC_B200 = \", ScoreVQC_B200)\n",
        "\n",
        "fig, (ax1, ax2) = plt.subplots(2, 1)\n",
        "ax1.scatter(x_test[:,0], x_test[:,1], c=y_test)\n",
        "ax2.scatter(x_test[:,0], x_test[:,1], c=predicted_y_test)"
      ],
      "execution_count": null,
      "outputs": []
    },
    {
      "cell_type": "markdown",
      "metadata": {
        "id": "HXSQ-X5bzsXL"
      },
      "source": [
        "### CircuitQNN classifier (B200)"
      ]
    },
    {
      "cell_type": "code",
      "metadata": {
        "id": "g9DLGszH0EjU"
      },
      "source": [
        "# construct quantum circuit\n",
        "qc = QuantumCircuit(num_qubits)\n",
        "qc.append(feature_map, range(num_qubits))\n",
        "qc.append(ansatz, range(num_qubits))\n",
        "# qc.decompose().draw()\n",
        "\n",
        "# parity maps bitstrings to 0 or 1\n",
        "def parity(x):\n",
        "    return '{:b}'.format(x).count('1') % num_classes\n",
        "output_shape = num_classes  # corresponds to the number of classes, possible outcomes of the (parity) mapping.\n",
        "\n",
        "# construct QNN\n",
        "circuit_qnn = CircuitQNN(circuit=qc, \n",
        "                         input_params=feature_map.parameters,\n",
        "                         weight_params=ansatz.parameters,\n",
        "                         interpret=parity,\n",
        "                         output_shape=output_shape,\n",
        "                         quantum_instance=backend)\n",
        "\n",
        "# construct classifier\n",
        "circuit_classifier = NeuralNetworkClassifier(neural_network=circuit_qnn, optimizer=COBYLA())\n",
        "\n",
        "# To predict the time of training\n",
        "from time import time\n",
        "t3_before_training_QNN_B200 = time()\n",
        "# To train\n",
        "circuit_classifier.fit(x_train, y_train)\n",
        "train_time_QNN_B200 = round(time()-t3_before_training_QNN_B200, 5)\n",
        "print(\"Training time = \",train_time_QNN_B200)\n",
        "\n",
        "# To predict the time of testing\n",
        "t3_before_testning_QNN_B200 = time()\n",
        "# To test\n",
        "predicted_y_test_QNN = qsvc.predict(x_test)\n",
        "test_time_QNN_B200 = round(time()-t3_before_testning_QNN_B200, 5)\n",
        "print(\"Testiing time = \", test_time_QNN_B200)\n",
        "\n",
        "ScoreQNN_B200 = accuracy_score(y_test, predicted_y_test_QNN)\n",
        "print(\"ScoreQNN_B200 = \", ScoreQNN_B200)\n",
        "\n",
        "fig, (ax1, ax2) = plt.subplots(2, 1)\n",
        "ax1.scatter(x_test[:,0], x_test[:,1], c=y_test)\n",
        "ax2.scatter(x_test[:,0], x_test[:,1], c=predicted_y_test_QNN)"
      ],
      "execution_count": null,
      "outputs": []
    },
    {
      "cell_type": "markdown",
      "metadata": {
        "id": "NdmoJHbZ95o1"
      },
      "source": [
        "# End"
      ]
    }
  ]
}